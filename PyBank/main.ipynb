{
 "cells": [
  {
   "cell_type": "code",
   "execution_count": 4,
   "metadata": {},
   "outputs": [],
   "source": [
    "import os\n",
    "import csv"
   ]
  },
  {
   "cell_type": "code",
   "execution_count": 5,
   "metadata": {},
   "outputs": [
    {
     "name": "stdout",
     "output_type": "stream",
     "text": [
      "c:\\Users\\lanel\\OneDrive\\Desktop\\Data Analytics info\\University of Oregon\\UO-Data-Analysis-Bootcamp-Public\\Module 3\\Challange Files\\python-challenge\\PyBank\\Resources\\budget_data.csv\n"
     ]
    }
   ],
   "source": [
    "os.chdir(r\"c:\\Users\\lanel\\OneDrive\\Desktop\\Data Analytics info\\University of Oregon\\UO-Data-Analysis-Bootcamp-Public\\Module 3\\Challange Files\\python-challenge\\PyBank\")\n",
    "\n",
    "current_directory = os.getcwd()\n",
    "\n",
    "csv_path = os.path.join(current_directory, 'Resources', 'budget_data.csv')\n",
    "print(csv_path)"
   ]
  },
  {
   "cell_type": "code",
   "execution_count": 6,
   "metadata": {},
   "outputs": [
    {
     "name": "stdout",
     "output_type": "stream",
     "text": [
      "[1088983.0, -354534.0, 276622.0, -728133.0, 852993.0, 563721.0, -535208.0, 632349.0, -173744.0, 950741.0, -785750.0, -1194133.0, -589576.0, -883921.0, 443564.0, 837887.0, 1081472.0, 464033.0, -1066544.0, 323846.0, -806551.0, 487053.0, 1128811.0, 791398.0, 739367.0, -197825.0, 666016.0, 589771.0, 489290.0, -471439.0, 120417.0, 175347.0, 855449.0, 605195.0, -235220.0, 347138.0, 298510.0, 163254.0, 1141840.0, 542630.0, 99841.0, 752765.0, -252949.0, 914424.0, 679524.0, 514377.0, 462102.0, 159782.0, 878810.0, -946748.0, 340335.0, 292032.0, 502266.0, 265852.0, 851017.0, -549615.0, 290162.0, 755391.0, 1073202.0, 313000.0, 241132.0, 1036589.0, 853904.0, -388932.0, 982952.0, 537759.0, 547784.0, -496214.0, 854181.0, 934719.0, -288531.0, -184383.0, 659541.0, -1149123.0, 355882.0, 662284.0, 518681.0, -748256.0, -910775.0, 951227.0, 898241.0, -729004.0, -112209.0, 516313.0, 607208.0, 382539.0]\n"
     ]
    }
   ],
   "source": [
    "with open(csv_path, 'r') as csvfile:\n",
    "\n",
    "    # CSV reader specifies delimiter and variable that holds contents\n",
    "    csvreader = list(csv.DictReader(csvfile, delimiter=','))\n",
    "\n",
    "    #following code inspired by https://learnpython.com/blog/read-csv-into-list-python/\n",
    "    # reads each column of the csv file to a list using List Comprehension\n",
    "    dates = [str(row['Date']) for row in csvreader]\n",
    "    profits = [float(row['Profit/Losses']) for row in csvreader]"
   ]
  },
  {
   "cell_type": "code",
   "execution_count": null,
   "metadata": {},
   "outputs": [],
   "source": []
  },
  {
   "cell_type": "code",
   "execution_count": null,
   "metadata": {},
   "outputs": [],
   "source": []
  },
  {
   "cell_type": "code",
   "execution_count": null,
   "metadata": {},
   "outputs": [],
   "source": []
  },
  {
   "cell_type": "code",
   "execution_count": null,
   "metadata": {},
   "outputs": [],
   "source": []
  }
 ],
 "metadata": {
  "kernelspec": {
   "display_name": "Bootcamp1",
   "language": "python",
   "name": "python3"
  },
  "language_info": {
   "codemirror_mode": {
    "name": "ipython",
    "version": 3
   },
   "file_extension": ".py",
   "mimetype": "text/x-python",
   "name": "python",
   "nbconvert_exporter": "python",
   "pygments_lexer": "ipython3",
   "version": "3.9.16"
  },
  "orig_nbformat": 4
 },
 "nbformat": 4,
 "nbformat_minor": 2
}
